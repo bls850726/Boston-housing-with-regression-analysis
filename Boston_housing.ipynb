{
 "cells": [
  {
   "cell_type": "markdown",
   "id": "00b4f75d",
   "metadata": {},
   "source": [
    "# 波士頓房價預測"
   ]
  },
  {
   "cell_type": "code",
   "execution_count": 1,
   "id": "e211ebc8",
   "metadata": {},
   "outputs": [
    {
     "name": "stderr",
     "output_type": "stream",
     "text": [
      "D:\\Python\\envs\\keras\\lib\\site-packages\\scipy\\__init__.py:146: UserWarning: A NumPy version >=1.16.5 and <1.23.0 is required for this version of SciPy (detected version 1.23.3\n",
      "  warnings.warn(f\"A NumPy version >={np_minversion} and <{np_maxversion}\"\n"
     ]
    }
   ],
   "source": [
    "import numpy as np\n",
    "import pandas as pd\n",
    "from keras.models import Sequential\n",
    "from keras.layers import Dense\n",
    "\n",
    "np.random.seed(7)"
   ]
  },
  {
   "cell_type": "code",
   "execution_count": 2,
   "id": "2588455d",
   "metadata": {},
   "outputs": [],
   "source": [
    "df = pd.read_csv(\"./boston_housing.csv\")\n",
    "dataset = df.values\n",
    "np.random.shuffle(dataset)"
   ]
  },
  {
   "cell_type": "markdown",
   "id": "9f204292",
   "metadata": {},
   "source": [
    "## 分割特徵標籤資料及建立標準化"
   ]
  },
  {
   "cell_type": "code",
   "execution_count": 3,
   "id": "c1fcb481",
   "metadata": {},
   "outputs": [],
   "source": [
    "X = dataset[:, 0:13]\n",
    "Y = dataset[:, 13]\n",
    "X -= X.mean(axis=0)\n",
    "X /= X.std(axis=0)\n",
    "X_train,Y_train = X[:404],Y[:404]\n",
    "X_test,Y_test = X[404:],Y[404:]"
   ]
  },
  {
   "cell_type": "markdown",
   "id": "ad67cc3a",
   "metadata": {},
   "source": [
    "## 建立模型"
   ]
  },
  {
   "cell_type": "code",
   "execution_count": 4,
   "id": "0c549da5",
   "metadata": {},
   "outputs": [],
   "source": [
    "def build_model():\n",
    "    model = Sequential()\n",
    "    model.add(Dense(32,input_shape=(X_train.shape[1],),activation=\"relu\"))\n",
    "    model.add(Dense(1))\n",
    "    model.compile(loss=\"mse\",optimizer=\"adam\",metrics=\"mae\")\n",
    "    return model"
   ]
  },
  {
   "cell_type": "markdown",
   "id": "8483822a",
   "metadata": {},
   "source": [
    "## K-fold交叉驗證"
   ]
  },
  {
   "cell_type": "code",
   "execution_count": 5,
   "id": "faa41122",
   "metadata": {},
   "outputs": [],
   "source": [
    "k = 4\n",
    "nb_val_samples = len(X_train) // k\n",
    "nb_epochs = 80\n",
    "mse_scores = []\n",
    "mae_scores = []"
   ]
  },
  {
   "cell_type": "code",
   "execution_count": 6,
   "id": "545acc78",
   "metadata": {},
   "outputs": [
    {
     "name": "stdout",
     "output_type": "stream",
     "text": [
      "Processing Fold #0\n",
      "Processing Fold #1\n",
      "Processing Fold #2\n",
      "Processing Fold #3\n"
     ]
    }
   ],
   "source": [
    "for i in range(k):\n",
    "    print(\"Processing Fold #\" + str(i))\n",
    "    X_val = X_train[i*nb_val_samples: (i+1)*nb_val_samples]\n",
    "    Y_val = Y_train[i*nb_val_samples: (i+1)*nb_val_samples]\n",
    "    X_train_p = np.concatenate(\n",
    "    [X_train[:i*nb_val_samples],X_train[(i+1)*nb_val_samples:]],axis=0)\n",
    "    Y_train_p = np.concatenate(\n",
    "    [Y_train[:i*nb_val_samples],Y_train[(i+1)*nb_val_samples:]],axis=0)"
   ]
  },
  {
   "cell_type": "markdown",
   "id": "f66bd293",
   "metadata": {},
   "source": [
    "## 訓練模型"
   ]
  },
  {
   "cell_type": "code",
   "execution_count": 7,
   "id": "cdc283f7",
   "metadata": {},
   "outputs": [
    {
     "name": "stdout",
     "output_type": "stream",
     "text": [
      "4/4 [==============================] - 0s 4ms/step - loss: 23.1178 - mae: 3.5973\n"
     ]
    }
   ],
   "source": [
    "model = build_model()\n",
    "model.fit(X_train_p,Y_train_p,epochs=nb_epochs,batch_size=16,verbose=0)\n",
    "mse,mae = model.evaluate(X_val,Y_val)\n",
    "mse_scores.append(mse)\n",
    "mae_scores.append(mae)"
   ]
  },
  {
   "cell_type": "code",
   "execution_count": 8,
   "id": "ea9c81dd",
   "metadata": {},
   "outputs": [
    {
     "name": "stdout",
     "output_type": "stream",
     "text": [
      "MSE_val 23.117753982543945\n",
      "MAE_val 3.5972633361816406\n",
      "4/4 [==============================] - 0s 3ms/step - loss: 16.2198 - mae: 3.2532\n",
      "X_test 16.219785690307617\n",
      "Y_test 3.2531981468200684\n"
     ]
    }
   ],
   "source": [
    "print(\"MSE_val\",np.mean(mse_scores))\n",
    "print(\"MAE_val\",np.mean(mae_scores))\n",
    "mse,mae = model.evaluate(X_test,Y_test)\n",
    "print(\"X_test\",mse)\n",
    "print(\"Y_test\",mae)"
   ]
  },
  {
   "cell_type": "markdown",
   "id": "7a3791af",
   "metadata": {},
   "source": [
    "### 結語: 房價誤差3253美元"
   ]
  },
  {
   "cell_type": "code",
   "execution_count": null,
   "id": "b1a28a6e",
   "metadata": {},
   "outputs": [],
   "source": []
  }
 ],
 "metadata": {
  "kernelspec": {
   "display_name": "Python 3 (ipykernel)",
   "language": "python",
   "name": "python3"
  },
  "language_info": {
   "codemirror_mode": {
    "name": "ipython",
    "version": 3
   },
   "file_extension": ".py",
   "mimetype": "text/x-python",
   "name": "python",
   "nbconvert_exporter": "python",
   "pygments_lexer": "ipython3",
   "version": "3.8.13"
  }
 },
 "nbformat": 4,
 "nbformat_minor": 5
}
